{
 "cells": [
  {
   "cell_type": "markdown",
   "id": "d4601a14",
   "metadata": {},
   "source": [
    "     After the cleaning and Prosecing the data , Now Move to Spliting the data and Traning it"
   ]
  },
  {
   "cell_type": "code",
   "execution_count": 8,
   "id": "b6909273",
   "metadata": {},
   "outputs": [],
   "source": [
    "import pandas as pd\n"
   ]
  },
  {
   "cell_type": "code",
   "execution_count": 9,
   "id": "013ac96c",
   "metadata": {},
   "outputs": [
    {
     "data": {
      "text/html": [
       "<div>\n",
       "<style scoped>\n",
       "    .dataframe tbody tr th:only-of-type {\n",
       "        vertical-align: middle;\n",
       "    }\n",
       "\n",
       "    .dataframe tbody tr th {\n",
       "        vertical-align: top;\n",
       "    }\n",
       "\n",
       "    .dataframe thead th {\n",
       "        text-align: right;\n",
       "    }\n",
       "</style>\n",
       "<table border=\"1\" class=\"dataframe\">\n",
       "  <thead>\n",
       "    <tr style=\"text-align: right;\">\n",
       "      <th></th>\n",
       "      <th>brand_name</th>\n",
       "      <th>price</th>\n",
       "      <th>rating</th>\n",
       "      <th>processor_brand</th>\n",
       "      <th>num_cores</th>\n",
       "      <th>processor_speed</th>\n",
       "      <th>battery_capacity</th>\n",
       "      <th>fast_charging_available</th>\n",
       "      <th>ram_capacity</th>\n",
       "      <th>internal_memory</th>\n",
       "      <th>...</th>\n",
       "      <th>primary_camera_front</th>\n",
       "      <th>extended_memory_available</th>\n",
       "      <th>resolution_width</th>\n",
       "      <th>resolution_height</th>\n",
       "      <th>has_5g_False</th>\n",
       "      <th>has_5g_True</th>\n",
       "      <th>has_nfc_False</th>\n",
       "      <th>has_nfc_True</th>\n",
       "      <th>has_ir_blaster_False</th>\n",
       "      <th>has_ir_blaster_True</th>\n",
       "    </tr>\n",
       "  </thead>\n",
       "  <tbody>\n",
       "    <tr>\n",
       "      <th>0</th>\n",
       "      <td>24.0</td>\n",
       "      <td>2.382300</td>\n",
       "      <td>1.494242</td>\n",
       "      <td>7.0</td>\n",
       "      <td>0.196128</td>\n",
       "      <td>1.946061</td>\n",
       "      <td>0.586999</td>\n",
       "      <td>0.400757</td>\n",
       "      <td>2.245766</td>\n",
       "      <td>2.069109</td>\n",
       "      <td>...</td>\n",
       "      <td>-0.078395</td>\n",
       "      <td>-1.449557</td>\n",
       "      <td>1.486256</td>\n",
       "      <td>2.175108</td>\n",
       "      <td>0.0</td>\n",
       "      <td>1.0</td>\n",
       "      <td>0.0</td>\n",
       "      <td>1.0</td>\n",
       "      <td>1.0</td>\n",
       "      <td>0.0</td>\n",
       "    </tr>\n",
       "    <tr>\n",
       "      <th>1</th>\n",
       "      <td>24.0</td>\n",
       "      <td>-0.199468</td>\n",
       "      <td>0.381630</td>\n",
       "      <td>7.0</td>\n",
       "      <td>0.196128</td>\n",
       "      <td>-0.445312</td>\n",
       "      <td>0.586999</td>\n",
       "      <td>0.400757</td>\n",
       "      <td>-0.155151</td>\n",
       "      <td>0.057129</td>\n",
       "      <td>...</td>\n",
       "      <td>-0.078395</td>\n",
       "      <td>0.689866</td>\n",
       "      <td>0.128220</td>\n",
       "      <td>0.486141</td>\n",
       "      <td>0.0</td>\n",
       "      <td>1.0</td>\n",
       "      <td>1.0</td>\n",
       "      <td>0.0</td>\n",
       "      <td>1.0</td>\n",
       "      <td>0.0</td>\n",
       "    </tr>\n",
       "  </tbody>\n",
       "</table>\n",
       "<p>2 rows × 26 columns</p>\n",
       "</div>"
      ],
      "text/plain": [
       "   brand_name     price    rating  processor_brand  num_cores  \\\n",
       "0        24.0  2.382300  1.494242              7.0   0.196128   \n",
       "1        24.0 -0.199468  0.381630              7.0   0.196128   \n",
       "\n",
       "   processor_speed  battery_capacity  fast_charging_available  ram_capacity  \\\n",
       "0         1.946061          0.586999                 0.400757      2.245766   \n",
       "1        -0.445312          0.586999                 0.400757     -0.155151   \n",
       "\n",
       "   internal_memory  ...  primary_camera_front  extended_memory_available  \\\n",
       "0         2.069109  ...             -0.078395                  -1.449557   \n",
       "1         0.057129  ...             -0.078395                   0.689866   \n",
       "\n",
       "   resolution_width  resolution_height  has_5g_False  has_5g_True  \\\n",
       "0          1.486256           2.175108           0.0          1.0   \n",
       "1          0.128220           0.486141           0.0          1.0   \n",
       "\n",
       "   has_nfc_False  has_nfc_True  has_ir_blaster_False  has_ir_blaster_True  \n",
       "0            0.0           1.0                   1.0                  0.0  \n",
       "1            1.0           0.0                   1.0                  0.0  \n",
       "\n",
       "[2 rows x 26 columns]"
      ]
     },
     "execution_count": 9,
     "metadata": {},
     "output_type": "execute_result"
    }
   ],
   "source": [
    "dataset = pd.read_csv(\"Processed_Smartphones.csv\")\n",
    "dataset.head(2)"
   ]
  },
  {
   "cell_type": "code",
   "execution_count": 10,
   "id": "c8611496",
   "metadata": {},
   "outputs": [],
   "source": [
    "input_data = dataset.drop([\"price\"]  , axis= 1 )\n",
    "output_data = dataset['price']"
   ]
  },
  {
   "cell_type": "code",
   "execution_count": 11,
   "id": "bd7329c3",
   "metadata": {},
   "outputs": [],
   "source": [
    "from sklearn.model_selection import train_test_split\n",
    "x_train , x_test , y_train , y_test = train_test_split(input_data, output_data , test_size = 0.30)"
   ]
  },
  {
   "cell_type": "code",
   "execution_count": null,
   "id": "447aa135",
   "metadata": {},
   "outputs": [
    {
     "data": {
      "text/plain": [
       "((230, 25), (230,))"
      ]
     },
     "execution_count": 12,
     "metadata": {},
     "output_type": "execute_result"
    }
   ],
   "source": []
  }
 ],
 "metadata": {
  "kernelspec": {
   "display_name": "Python 3",
   "language": "python",
   "name": "python3"
  },
  "language_info": {
   "codemirror_mode": {
    "name": "ipython",
    "version": 3
   },
   "file_extension": ".py",
   "mimetype": "text/x-python",
   "name": "python",
   "nbconvert_exporter": "python",
   "pygments_lexer": "ipython3",
   "version": "3.13.3"
  }
 },
 "nbformat": 4,
 "nbformat_minor": 5
}

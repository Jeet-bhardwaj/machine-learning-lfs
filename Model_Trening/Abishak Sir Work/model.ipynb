{
 "cells": [
  {
   "cell_type": "markdown",
   "id": "afd58f85",
   "metadata": {},
   "source": [
    "(Random Forest, Decision Tree, SVM, Naive Bayes, AdaBoost, Regression, XGBoost) "
   ]
  },
  {
   "cell_type": "code",
   "execution_count": 1,
   "id": "bfcd699c",
   "metadata": {},
   "outputs": [],
   "source": [
    "import pandas as pd\n",
    "import numpy as np\n",
    "from sklearn.model_selection import train_test_split\n",
    "from sklearn.metrics import accuracy_score, precision_score, confusion_matrix\n",
    "from sklearn.ensemble import RandomForestClassifier, AdaBoostClassifier\n",
    "from sklearn.tree import DecisionTreeClassifier\n",
    "from sklearn.svm import SVC\n",
    "from sklearn.naive_bayes import GaussianNB\n",
    "from sklearn.linear_model import LogisticRegression\n",
    "import xgboost as xgb\n",
    "import seaborn as sns\n",
    "import matplotlib.pyplot as plt\n",
    "import warnings\n",
    "from sklearn.exceptions import DataConversionWarning\n",
    "\n",
    "\n",
    "warnings.filterwarnings(action='ignore', category=DataConversionWarning)"
   ]
  },
  {
   "cell_type": "code",
   "execution_count": 2,
   "id": "8f3eaf9c",
   "metadata": {},
   "outputs": [],
   "source": [
    "dataset = pd.read_csv('final_features.csv')\n"
   ]
  },
  {
   "cell_type": "code",
   "execution_count": 3,
   "id": "e5fd8c19",
   "metadata": {},
   "outputs": [
    {
     "data": {
      "text/plain": [
       "(1038, 66647)"
      ]
     },
     "execution_count": 3,
     "metadata": {},
     "output_type": "execute_result"
    }
   ],
   "source": [
    "# pd.set_option('display.max_columns', None)\n",
    "dataset.shape"
   ]
  },
  {
   "cell_type": "code",
   "execution_count": 4,
   "id": "1e9ea96e",
   "metadata": {},
   "outputs": [],
   "source": [
    "# spliting data for Train and test\n",
    "input_dataset = dataset.drop(['app_name', 'class'] , axis=1)  # Features\n",
    "output_dataset = dataset[['class']]              # Target\n",
    "\n",
    "\n",
    "X_train, X_test, y_train, y_test = train_test_split(input_dataset, output_dataset, test_size=0.25, random_state=42) # Test size 25%\n"
   ]
  },
  {
   "cell_type": "code",
   "execution_count": 5,
   "id": "e2f697fc",
   "metadata": {},
   "outputs": [],
   "source": [
    "# Now traning the models\n",
    "\n",
    "models = {\n",
    "    \"Random Forest\": RandomForestClassifier(),\n",
    "    \"Decision Tree\": DecisionTreeClassifier(),\n",
    "    \"SVM\": SVC(probability=True),\n",
    "    \"Naive Bayes\": GaussianNB(),\n",
    "    \"AdaBoost\": AdaBoostClassifier(),\n",
    "    \"Logistic Regression\": LogisticRegression(max_iter=1000),\n",
    "    \"XGBoost\": xgb.XGBClassifier(eval_metric='mlogloss')\n",
    "}\n"
   ]
  },
  {
   "cell_type": "code",
   "execution_count": 6,
   "id": "7390c902",
   "metadata": {},
   "outputs": [],
   "source": [
    "results = []\n",
    "for name, model in models.items():\n",
    "    model.fit(X_train, y_train)\n",
    "    y_pred = model.predict(X_test)\n",
    "    \n",
    "    acc = accuracy_score(y_test, y_pred)\n",
    "    prec = precision_score(y_test, y_pred, average='weighted')\n",
    "    cm = confusion_matrix(y_test, y_pred)\n",
    "    results.append({\n",
    "        \"Model\": name,\n",
    "        \"Accuracy\": acc,\n",
    "        \"Precision\": prec,\n",
    "        \"Confusion Matrix\": cm\n",
    "    })\n",
    "\n"
   ]
  },
  {
   "cell_type": "code",
   "execution_count": 7,
   "id": "98d9ae5d",
   "metadata": {},
   "outputs": [
    {
     "data": {
      "text/html": [
       "<div>\n",
       "<style scoped>\n",
       "    .dataframe tbody tr th:only-of-type {\n",
       "        vertical-align: middle;\n",
       "    }\n",
       "\n",
       "    .dataframe tbody tr th {\n",
       "        vertical-align: top;\n",
       "    }\n",
       "\n",
       "    .dataframe thead th {\n",
       "        text-align: right;\n",
       "    }\n",
       "</style>\n",
       "<table border=\"1\" class=\"dataframe\">\n",
       "  <thead>\n",
       "    <tr style=\"text-align: right;\">\n",
       "      <th></th>\n",
       "      <th>Model</th>\n",
       "      <th>Accuracy</th>\n",
       "      <th>Precision</th>\n",
       "      <th>Confusion Matrix</th>\n",
       "    </tr>\n",
       "  </thead>\n",
       "  <tbody>\n",
       "    <tr>\n",
       "      <th>0</th>\n",
       "      <td>Random Forest</td>\n",
       "      <td>0.961538</td>\n",
       "      <td>0.964209</td>\n",
       "      <td>[[116  10]\\n [  0 134]]</td>\n",
       "    </tr>\n",
       "    <tr>\n",
       "      <th>1</th>\n",
       "      <td>Decision Tree</td>\n",
       "      <td>0.984615</td>\n",
       "      <td>0.985061</td>\n",
       "      <td>[[122   4]\\n [  0 134]]</td>\n",
       "    </tr>\n",
       "    <tr>\n",
       "      <th>2</th>\n",
       "      <td>SVM</td>\n",
       "      <td>0.961538</td>\n",
       "      <td>0.962473</td>\n",
       "      <td>[[118   8]\\n [  2 132]]</td>\n",
       "    </tr>\n",
       "    <tr>\n",
       "      <th>3</th>\n",
       "      <td>Naive Bayes</td>\n",
       "      <td>0.961538</td>\n",
       "      <td>0.961630</td>\n",
       "      <td>[[120   6]\\n [  4 130]]</td>\n",
       "    </tr>\n",
       "    <tr>\n",
       "      <th>4</th>\n",
       "      <td>AdaBoost</td>\n",
       "      <td>1.000000</td>\n",
       "      <td>1.000000</td>\n",
       "      <td>[[126   0]\\n [  0 134]]</td>\n",
       "    </tr>\n",
       "    <tr>\n",
       "      <th>5</th>\n",
       "      <td>Logistic Regression</td>\n",
       "      <td>0.988462</td>\n",
       "      <td>0.988714</td>\n",
       "      <td>[[123   3]\\n [  0 134]]</td>\n",
       "    </tr>\n",
       "    <tr>\n",
       "      <th>6</th>\n",
       "      <td>XGBoost</td>\n",
       "      <td>0.988462</td>\n",
       "      <td>0.988488</td>\n",
       "      <td>[[124   2]\\n [  1 133]]</td>\n",
       "    </tr>\n",
       "  </tbody>\n",
       "</table>\n",
       "</div>"
      ],
      "text/plain": [
       "                 Model  Accuracy  Precision         Confusion Matrix\n",
       "0        Random Forest  0.961538   0.964209  [[116  10]\\n [  0 134]]\n",
       "1        Decision Tree  0.984615   0.985061  [[122   4]\\n [  0 134]]\n",
       "2                  SVM  0.961538   0.962473  [[118   8]\\n [  2 132]]\n",
       "3          Naive Bayes  0.961538   0.961630  [[120   6]\\n [  4 130]]\n",
       "4             AdaBoost  1.000000   1.000000  [[126   0]\\n [  0 134]]\n",
       "5  Logistic Regression  0.988462   0.988714  [[123   3]\\n [  0 134]]\n",
       "6              XGBoost  0.988462   0.988488  [[124   2]\\n [  1 133]]"
      ]
     },
     "execution_count": 7,
     "metadata": {},
     "output_type": "execute_result"
    }
   ],
   "source": [
    "# Create a results table with Confusion Matrix as a string\n",
    "results_df = pd.DataFrame(results)\n",
    "results_df['Confusion Matrix'] = results_df['Confusion Matrix'].apply(lambda x: np.array2string(x))\n",
    "results_df = results_df[['Model', 'Accuracy', 'Precision', 'Confusion Matrix']]\n",
    "results_df"
   ]
  }
 ],
 "metadata": {
  "kernelspec": {
   "display_name": "Python 3",
   "language": "python",
   "name": "python3"
  },
  "language_info": {
   "codemirror_mode": {
    "name": "ipython",
    "version": 3
   },
   "file_extension": ".py",
   "mimetype": "text/x-python",
   "name": "python",
   "nbconvert_exporter": "python",
   "pygments_lexer": "ipython3",
   "version": "3.13.3"
  }
 },
 "nbformat": 4,
 "nbformat_minor": 5
}

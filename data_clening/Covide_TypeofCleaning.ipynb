{
 "cells": [
  {
   "cell_type": "code",
   "execution_count": null,
   "id": "3686d446",
   "metadata": {},
   "outputs": [],
   "source": [
    "import pandas as pd"
   ]
  },
  {
   "cell_type": "code",
   "execution_count": null,
   "id": "2bddd32f",
   "metadata": {},
   "outputs": [],
   "source": [
    "dataset = pd.read_csv('Covid Live.csv')"
   ]
  },
  {
   "cell_type": "code",
   "execution_count": null,
   "id": "c4f0b22c",
   "metadata": {},
   "outputs": [],
   "source": [
    "dataset.isnull()"
   ]
  },
  {
   "cell_type": "code",
   "execution_count": null,
   "id": "2ac30d73",
   "metadata": {},
   "outputs": [],
   "source": [
    "dataset = dataset.drop( columns =[\"New\\nDeaths\"])\n"
   ]
  },
  {
   "cell_type": "code",
   "execution_count": null,
   "id": "9513f15c",
   "metadata": {},
   "outputs": [],
   "source": [
    "dataset"
   ]
  },
  {
   "cell_type": "code",
   "execution_count": null,
   "id": "44fe32b0",
   "metadata": {},
   "outputs": [],
   "source": [
    "dataset.isnull().sum()"
   ]
  },
  {
   "cell_type": "code",
   "execution_count": null,
   "id": "4143bf59",
   "metadata": {},
   "outputs": [],
   "source": [
    "dataset.info()"
   ]
  }
 ],
 "metadata": {
  "kernelspec": {
   "display_name": "Python 3",
   "language": "python",
   "name": "python3"
  },
  "language_info": {
   "codemirror_mode": {
    "name": "ipython",
    "version": 3
   },
   "file_extension": ".py",
   "mimetype": "text/x-python",
   "name": "python",
   "nbconvert_exporter": "python",
   "pygments_lexer": "ipython3",
   "version": "3.13.3"
  }
 },
 "nbformat": 4,
 "nbformat_minor": 5
}
